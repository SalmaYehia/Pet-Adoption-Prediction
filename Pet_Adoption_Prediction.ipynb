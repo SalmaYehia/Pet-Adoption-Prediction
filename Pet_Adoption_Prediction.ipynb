{
  "nbformat": 4,
  "nbformat_minor": 0,
  "metadata": {
    "colab": {
      "name": "Pet Adoption Prediction.ipynb",
      "version": "0.3.2",
      "provenance": [],
      "collapsed_sections": []
    },
    "kernelspec": {
      "name": "python3",
      "display_name": "Python 3"
    },
    "accelerator": "GPU"
  },
  "cells": [
    {
      "metadata": {
        "id": "NsVD8_eD7EIj",
        "colab_type": "text"
      },
      "cell_type": "markdown",
      "source": [
        "#Pet Adoption Prediction\n"
      ]
    },
    {
      "metadata": {
        "id": "Znp2OVwW57yI",
        "colab_type": "text"
      },
      "cell_type": "markdown",
      "source": [
        "# Data Exploration"
      ]
    },
    {
      "metadata": {
        "id": "HMOID_507u04",
        "colab_type": "code",
        "colab": {
          "base_uri": "https://localhost:8080/",
          "height": 34
        },
        "outputId": "a6cb9404-8025-4ba4-9b65-b0df8166d6f3"
      },
      "cell_type": "code",
      "source": [
        "import pandas as pd\n",
        "import numpy as np\n",
        "\n",
        "from sklearn.metrics import accuracy_score\n",
        "\n",
        "from keras.models import Sequential\n",
        "from keras.layers import Dense\n"
      ],
      "execution_count": 1,
      "outputs": [
        {
          "output_type": "stream",
          "text": [
            "Using TensorFlow backend.\n"
          ],
          "name": "stderr"
        }
      ]
    },
    {
      "metadata": {
        "id": "afJBECRl524W",
        "colab_type": "code",
        "outputId": "27f28a1e-0459-4a16-c1ba-9c6033d40260",
        "colab": {
          "base_uri": "https://localhost:8080/",
          "height": 122
        }
      },
      "cell_type": "code",
      "source": [
        "#link google drive to colab notebook\n",
        "from google.colab import drive\n",
        "drive.mount('/content/gdrive')"
      ],
      "execution_count": 2,
      "outputs": [
        {
          "output_type": "stream",
          "text": [
            "Go to this URL in a browser: https://accounts.google.com/o/oauth2/auth?client_id=947318989803-6bn6qk8qdgf4n4g3pfee6491hc0brc4i.apps.googleusercontent.com&redirect_uri=urn%3Aietf%3Awg%3Aoauth%3A2.0%3Aoob&scope=email%20https%3A%2F%2Fwww.googleapis.com%2Fauth%2Fdocs.test%20https%3A%2F%2Fwww.googleapis.com%2Fauth%2Fdrive%20https%3A%2F%2Fwww.googleapis.com%2Fauth%2Fdrive.photos.readonly%20https%3A%2F%2Fwww.googleapis.com%2Fauth%2Fpeopleapi.readonly&response_type=code\n",
            "\n",
            "Enter your authorization code:\n",
            "··········\n",
            "Mounted at /content/gdrive\n"
          ],
          "name": "stdout"
        }
      ]
    },
    {
      "metadata": {
        "id": "4Y0gzzCb6bjk",
        "colab_type": "code",
        "outputId": "98ced4e8-698e-4a04-c98b-947f834ad67b",
        "colab": {
          "base_uri": "https://localhost:8080/",
          "height": 153
        }
      },
      "cell_type": "code",
      "source": [
        "#data directory\n",
        "data_path = 'gdrive/My Drive/Pet Finder Project/Data/'\n",
        "\n",
        "#show data files\n",
        "!ls 'gdrive/My Drive/Pet Finder Project/Data'"
      ],
      "execution_count": 5,
      "outputs": [
        {
          "output_type": "stream",
          "text": [
            "all_features.csv  test_metadata.zip   train_metadata_table.csv\n",
            "breed_labels.csv  test_sentiment      train_metadata.zip\n",
            "color_labels.csv  test_sentiment.zip  train_sentiment\n",
            "state_labels.csv  test.zip\t      train_sentiment_table.csv\n",
            "test\t\t  train\t\t      train_sentiment.zip\n",
            "test_images\t  train_images\t      train.zip\n",
            "test_images.zip   train_images.zip\n",
            "test_metadata\t  train_metadata\n"
          ],
          "name": "stdout"
        }
      ]
    },
    {
      "metadata": {
        "id": "4rJd0jsX6zZA",
        "colab_type": "code",
        "outputId": "d46b6042-250a-41dc-da7c-5f5505ac4340",
        "colab": {
          "base_uri": "https://localhost:8080/",
          "height": 221
        }
      },
      "cell_type": "code",
      "source": [
        "print('Train')\n",
        "train = pd.read_csv(data_path + \"train/train.csv\")\n",
        "print(train.shape)\n",
        "\n",
        "print('Breeds')\n",
        "breeds = pd.read_csv(data_path + \"breed_labels.csv\")\n",
        "print(breeds.shape)\n",
        "\n",
        "print('Colors')\n",
        "colors = pd.read_csv(data_path + \"color_labels.csv\")\n",
        "print(colors.shape)\n",
        "\n",
        "print('States')\n",
        "states = pd.read_csv(data_path + \"state_labels.csv\")\n",
        "print(states.shape)\n",
        "\n",
        "print('Metadata')\n",
        "metadata = pd.read_csv(data_path + \"train_metadata_table.csv\", sep='\\t')\n",
        "metadata.drop(metadata.columns[0],axis=1,inplace=True) #remove first column it is just indexing\n",
        "print(metadata.shape)\n",
        "\n",
        "print('Sentiment')\n",
        "sentiment = pd.read_csv(data_path + \"train_sentiment_table.csv\", sep='\\t')\n",
        "sentiment.drop(sentiment.columns[0],axis=1,inplace=True) #remove first column it is just indexing\n",
        "print(sentiment.shape)"
      ],
      "execution_count": 6,
      "outputs": [
        {
          "output_type": "stream",
          "text": [
            "Train\n",
            "(14993, 24)\n",
            "Breeds\n",
            "(307, 3)\n",
            "Colors\n",
            "(7, 2)\n",
            "States\n",
            "(15, 2)\n",
            "Metadata\n",
            "(14993, 13)\n",
            "Sentiment\n",
            "(14993, 2)\n"
          ],
          "name": "stdout"
        }
      ]
    },
    {
      "metadata": {
        "id": "fWXRCYLtJ101",
        "colab_type": "code",
        "outputId": "c14fa5a3-7ad5-43c0-da4c-61598c9d45da",
        "colab": {
          "base_uri": "https://localhost:8080/",
          "height": 576
        }
      },
      "cell_type": "code",
      "source": [
        "train.head()"
      ],
      "execution_count": 7,
      "outputs": [
        {
          "output_type": "execute_result",
          "data": {
            "text/html": [
              "<div>\n",
              "<style scoped>\n",
              "    .dataframe tbody tr th:only-of-type {\n",
              "        vertical-align: middle;\n",
              "    }\n",
              "\n",
              "    .dataframe tbody tr th {\n",
              "        vertical-align: top;\n",
              "    }\n",
              "\n",
              "    .dataframe thead th {\n",
              "        text-align: right;\n",
              "    }\n",
              "</style>\n",
              "<table border=\"1\" class=\"dataframe\">\n",
              "  <thead>\n",
              "    <tr style=\"text-align: right;\">\n",
              "      <th></th>\n",
              "      <th>Type</th>\n",
              "      <th>Name</th>\n",
              "      <th>Age</th>\n",
              "      <th>Breed1</th>\n",
              "      <th>Breed2</th>\n",
              "      <th>Gender</th>\n",
              "      <th>Color1</th>\n",
              "      <th>Color2</th>\n",
              "      <th>Color3</th>\n",
              "      <th>MaturitySize</th>\n",
              "      <th>...</th>\n",
              "      <th>Health</th>\n",
              "      <th>Quantity</th>\n",
              "      <th>Fee</th>\n",
              "      <th>State</th>\n",
              "      <th>RescuerID</th>\n",
              "      <th>VideoAmt</th>\n",
              "      <th>Description</th>\n",
              "      <th>PetID</th>\n",
              "      <th>PhotoAmt</th>\n",
              "      <th>AdoptionSpeed</th>\n",
              "    </tr>\n",
              "  </thead>\n",
              "  <tbody>\n",
              "    <tr>\n",
              "      <th>0</th>\n",
              "      <td>2</td>\n",
              "      <td>Nibble</td>\n",
              "      <td>3</td>\n",
              "      <td>299</td>\n",
              "      <td>0</td>\n",
              "      <td>1</td>\n",
              "      <td>1</td>\n",
              "      <td>7</td>\n",
              "      <td>0</td>\n",
              "      <td>1</td>\n",
              "      <td>...</td>\n",
              "      <td>1</td>\n",
              "      <td>1</td>\n",
              "      <td>100</td>\n",
              "      <td>41326</td>\n",
              "      <td>8480853f516546f6cf33aa88cd76c379</td>\n",
              "      <td>0</td>\n",
              "      <td>Nibble is a 3+ month old ball of cuteness. He ...</td>\n",
              "      <td>86e1089a3</td>\n",
              "      <td>1.0</td>\n",
              "      <td>2</td>\n",
              "    </tr>\n",
              "    <tr>\n",
              "      <th>1</th>\n",
              "      <td>2</td>\n",
              "      <td>No Name Yet</td>\n",
              "      <td>1</td>\n",
              "      <td>265</td>\n",
              "      <td>0</td>\n",
              "      <td>1</td>\n",
              "      <td>1</td>\n",
              "      <td>2</td>\n",
              "      <td>0</td>\n",
              "      <td>2</td>\n",
              "      <td>...</td>\n",
              "      <td>1</td>\n",
              "      <td>1</td>\n",
              "      <td>0</td>\n",
              "      <td>41401</td>\n",
              "      <td>3082c7125d8fb66f7dd4bff4192c8b14</td>\n",
              "      <td>0</td>\n",
              "      <td>I just found it alone yesterday near my apartm...</td>\n",
              "      <td>6296e909a</td>\n",
              "      <td>2.0</td>\n",
              "      <td>0</td>\n",
              "    </tr>\n",
              "    <tr>\n",
              "      <th>2</th>\n",
              "      <td>1</td>\n",
              "      <td>Brisco</td>\n",
              "      <td>1</td>\n",
              "      <td>307</td>\n",
              "      <td>0</td>\n",
              "      <td>1</td>\n",
              "      <td>2</td>\n",
              "      <td>7</td>\n",
              "      <td>0</td>\n",
              "      <td>2</td>\n",
              "      <td>...</td>\n",
              "      <td>1</td>\n",
              "      <td>1</td>\n",
              "      <td>0</td>\n",
              "      <td>41326</td>\n",
              "      <td>fa90fa5b1ee11c86938398b60abc32cb</td>\n",
              "      <td>0</td>\n",
              "      <td>Their pregnant mother was dumped by her irresp...</td>\n",
              "      <td>3422e4906</td>\n",
              "      <td>7.0</td>\n",
              "      <td>3</td>\n",
              "    </tr>\n",
              "    <tr>\n",
              "      <th>3</th>\n",
              "      <td>1</td>\n",
              "      <td>Miko</td>\n",
              "      <td>4</td>\n",
              "      <td>307</td>\n",
              "      <td>0</td>\n",
              "      <td>2</td>\n",
              "      <td>1</td>\n",
              "      <td>2</td>\n",
              "      <td>0</td>\n",
              "      <td>2</td>\n",
              "      <td>...</td>\n",
              "      <td>1</td>\n",
              "      <td>1</td>\n",
              "      <td>150</td>\n",
              "      <td>41401</td>\n",
              "      <td>9238e4f44c71a75282e62f7136c6b240</td>\n",
              "      <td>0</td>\n",
              "      <td>Good guard dog, very alert, active, obedience ...</td>\n",
              "      <td>5842f1ff5</td>\n",
              "      <td>8.0</td>\n",
              "      <td>2</td>\n",
              "    </tr>\n",
              "    <tr>\n",
              "      <th>4</th>\n",
              "      <td>1</td>\n",
              "      <td>Hunter</td>\n",
              "      <td>1</td>\n",
              "      <td>307</td>\n",
              "      <td>0</td>\n",
              "      <td>1</td>\n",
              "      <td>1</td>\n",
              "      <td>0</td>\n",
              "      <td>0</td>\n",
              "      <td>2</td>\n",
              "      <td>...</td>\n",
              "      <td>1</td>\n",
              "      <td>1</td>\n",
              "      <td>0</td>\n",
              "      <td>41326</td>\n",
              "      <td>95481e953f8aed9ec3d16fc4509537e8</td>\n",
              "      <td>0</td>\n",
              "      <td>This handsome yet cute boy is up for adoption....</td>\n",
              "      <td>850a43f90</td>\n",
              "      <td>3.0</td>\n",
              "      <td>2</td>\n",
              "    </tr>\n",
              "  </tbody>\n",
              "</table>\n",
              "<p>5 rows × 24 columns</p>\n",
              "</div>"
            ],
            "text/plain": [
              "   Type         Name  Age  Breed1  Breed2  Gender  Color1  Color2  Color3  \\\n",
              "0     2       Nibble    3     299       0       1       1       7       0   \n",
              "1     2  No Name Yet    1     265       0       1       1       2       0   \n",
              "2     1       Brisco    1     307       0       1       2       7       0   \n",
              "3     1         Miko    4     307       0       2       1       2       0   \n",
              "4     1       Hunter    1     307       0       1       1       0       0   \n",
              "\n",
              "   MaturitySize      ...        Health  Quantity  Fee  State  \\\n",
              "0             1      ...             1         1  100  41326   \n",
              "1             2      ...             1         1    0  41401   \n",
              "2             2      ...             1         1    0  41326   \n",
              "3             2      ...             1         1  150  41401   \n",
              "4             2      ...             1         1    0  41326   \n",
              "\n",
              "                          RescuerID  VideoAmt  \\\n",
              "0  8480853f516546f6cf33aa88cd76c379         0   \n",
              "1  3082c7125d8fb66f7dd4bff4192c8b14         0   \n",
              "2  fa90fa5b1ee11c86938398b60abc32cb         0   \n",
              "3  9238e4f44c71a75282e62f7136c6b240         0   \n",
              "4  95481e953f8aed9ec3d16fc4509537e8         0   \n",
              "\n",
              "                                         Description      PetID PhotoAmt  \\\n",
              "0  Nibble is a 3+ month old ball of cuteness. He ...  86e1089a3      1.0   \n",
              "1  I just found it alone yesterday near my apartm...  6296e909a      2.0   \n",
              "2  Their pregnant mother was dumped by her irresp...  3422e4906      7.0   \n",
              "3  Good guard dog, very alert, active, obedience ...  5842f1ff5      8.0   \n",
              "4  This handsome yet cute boy is up for adoption....  850a43f90      3.0   \n",
              "\n",
              "   AdoptionSpeed  \n",
              "0              2  \n",
              "1              0  \n",
              "2              3  \n",
              "3              2  \n",
              "4              2  \n",
              "\n",
              "[5 rows x 24 columns]"
            ]
          },
          "metadata": {
            "tags": []
          },
          "execution_count": 7
        }
      ]
    },
    {
      "metadata": {
        "id": "_EsTY8YAJolr",
        "colab_type": "code",
        "outputId": "e358b426-c395-4c71-95f5-bd8cdfcb6f1f",
        "colab": {
          "base_uri": "https://localhost:8080/",
          "height": 204
        }
      },
      "cell_type": "code",
      "source": [
        "breeds.head()"
      ],
      "execution_count": 8,
      "outputs": [
        {
          "output_type": "execute_result",
          "data": {
            "text/html": [
              "<div>\n",
              "<style scoped>\n",
              "    .dataframe tbody tr th:only-of-type {\n",
              "        vertical-align: middle;\n",
              "    }\n",
              "\n",
              "    .dataframe tbody tr th {\n",
              "        vertical-align: top;\n",
              "    }\n",
              "\n",
              "    .dataframe thead th {\n",
              "        text-align: right;\n",
              "    }\n",
              "</style>\n",
              "<table border=\"1\" class=\"dataframe\">\n",
              "  <thead>\n",
              "    <tr style=\"text-align: right;\">\n",
              "      <th></th>\n",
              "      <th>BreedID</th>\n",
              "      <th>Type</th>\n",
              "      <th>BreedName</th>\n",
              "    </tr>\n",
              "  </thead>\n",
              "  <tbody>\n",
              "    <tr>\n",
              "      <th>0</th>\n",
              "      <td>1</td>\n",
              "      <td>1</td>\n",
              "      <td>Affenpinscher</td>\n",
              "    </tr>\n",
              "    <tr>\n",
              "      <th>1</th>\n",
              "      <td>2</td>\n",
              "      <td>1</td>\n",
              "      <td>Afghan Hound</td>\n",
              "    </tr>\n",
              "    <tr>\n",
              "      <th>2</th>\n",
              "      <td>3</td>\n",
              "      <td>1</td>\n",
              "      <td>Airedale Terrier</td>\n",
              "    </tr>\n",
              "    <tr>\n",
              "      <th>3</th>\n",
              "      <td>4</td>\n",
              "      <td>1</td>\n",
              "      <td>Akbash</td>\n",
              "    </tr>\n",
              "    <tr>\n",
              "      <th>4</th>\n",
              "      <td>5</td>\n",
              "      <td>1</td>\n",
              "      <td>Akita</td>\n",
              "    </tr>\n",
              "  </tbody>\n",
              "</table>\n",
              "</div>"
            ],
            "text/plain": [
              "   BreedID  Type         BreedName\n",
              "0        1     1     Affenpinscher\n",
              "1        2     1      Afghan Hound\n",
              "2        3     1  Airedale Terrier\n",
              "3        4     1            Akbash\n",
              "4        5     1             Akita"
            ]
          },
          "metadata": {
            "tags": []
          },
          "execution_count": 8
        }
      ]
    },
    {
      "metadata": {
        "id": "F2i46bEBKW59",
        "colab_type": "code",
        "outputId": "4b47085b-1f5c-40cf-84c9-9a002ba4162c",
        "colab": {
          "base_uri": "https://localhost:8080/",
          "height": 204
        }
      },
      "cell_type": "code",
      "source": [
        "colors.head()"
      ],
      "execution_count": 9,
      "outputs": [
        {
          "output_type": "execute_result",
          "data": {
            "text/html": [
              "<div>\n",
              "<style scoped>\n",
              "    .dataframe tbody tr th:only-of-type {\n",
              "        vertical-align: middle;\n",
              "    }\n",
              "\n",
              "    .dataframe tbody tr th {\n",
              "        vertical-align: top;\n",
              "    }\n",
              "\n",
              "    .dataframe thead th {\n",
              "        text-align: right;\n",
              "    }\n",
              "</style>\n",
              "<table border=\"1\" class=\"dataframe\">\n",
              "  <thead>\n",
              "    <tr style=\"text-align: right;\">\n",
              "      <th></th>\n",
              "      <th>ColorID</th>\n",
              "      <th>ColorName</th>\n",
              "    </tr>\n",
              "  </thead>\n",
              "  <tbody>\n",
              "    <tr>\n",
              "      <th>0</th>\n",
              "      <td>1</td>\n",
              "      <td>Black</td>\n",
              "    </tr>\n",
              "    <tr>\n",
              "      <th>1</th>\n",
              "      <td>2</td>\n",
              "      <td>Brown</td>\n",
              "    </tr>\n",
              "    <tr>\n",
              "      <th>2</th>\n",
              "      <td>3</td>\n",
              "      <td>Golden</td>\n",
              "    </tr>\n",
              "    <tr>\n",
              "      <th>3</th>\n",
              "      <td>4</td>\n",
              "      <td>Yellow</td>\n",
              "    </tr>\n",
              "    <tr>\n",
              "      <th>4</th>\n",
              "      <td>5</td>\n",
              "      <td>Cream</td>\n",
              "    </tr>\n",
              "  </tbody>\n",
              "</table>\n",
              "</div>"
            ],
            "text/plain": [
              "   ColorID ColorName\n",
              "0        1     Black\n",
              "1        2     Brown\n",
              "2        3    Golden\n",
              "3        4    Yellow\n",
              "4        5     Cream"
            ]
          },
          "metadata": {
            "tags": []
          },
          "execution_count": 9
        }
      ]
    },
    {
      "metadata": {
        "id": "YcLSqistKbfF",
        "colab_type": "code",
        "outputId": "4537a667-c046-4cae-fc08-19180f65635f",
        "colab": {
          "base_uri": "https://localhost:8080/",
          "height": 204
        }
      },
      "cell_type": "code",
      "source": [
        "states.head()"
      ],
      "execution_count": 10,
      "outputs": [
        {
          "output_type": "execute_result",
          "data": {
            "text/html": [
              "<div>\n",
              "<style scoped>\n",
              "    .dataframe tbody tr th:only-of-type {\n",
              "        vertical-align: middle;\n",
              "    }\n",
              "\n",
              "    .dataframe tbody tr th {\n",
              "        vertical-align: top;\n",
              "    }\n",
              "\n",
              "    .dataframe thead th {\n",
              "        text-align: right;\n",
              "    }\n",
              "</style>\n",
              "<table border=\"1\" class=\"dataframe\">\n",
              "  <thead>\n",
              "    <tr style=\"text-align: right;\">\n",
              "      <th></th>\n",
              "      <th>StateID</th>\n",
              "      <th>StateName</th>\n",
              "    </tr>\n",
              "  </thead>\n",
              "  <tbody>\n",
              "    <tr>\n",
              "      <th>0</th>\n",
              "      <td>41336</td>\n",
              "      <td>Johor</td>\n",
              "    </tr>\n",
              "    <tr>\n",
              "      <th>1</th>\n",
              "      <td>41325</td>\n",
              "      <td>Kedah</td>\n",
              "    </tr>\n",
              "    <tr>\n",
              "      <th>2</th>\n",
              "      <td>41367</td>\n",
              "      <td>Kelantan</td>\n",
              "    </tr>\n",
              "    <tr>\n",
              "      <th>3</th>\n",
              "      <td>41401</td>\n",
              "      <td>Kuala Lumpur</td>\n",
              "    </tr>\n",
              "    <tr>\n",
              "      <th>4</th>\n",
              "      <td>41415</td>\n",
              "      <td>Labuan</td>\n",
              "    </tr>\n",
              "  </tbody>\n",
              "</table>\n",
              "</div>"
            ],
            "text/plain": [
              "   StateID     StateName\n",
              "0    41336         Johor\n",
              "1    41325         Kedah\n",
              "2    41367      Kelantan\n",
              "3    41401  Kuala Lumpur\n",
              "4    41415        Labuan"
            ]
          },
          "metadata": {
            "tags": []
          },
          "execution_count": 10
        }
      ]
    },
    {
      "metadata": {
        "id": "80g3jJmjKujI",
        "colab_type": "code",
        "outputId": "40d69f51-1454-42a8-8179-27b81dd47f4e",
        "colab": {
          "base_uri": "https://localhost:8080/",
          "height": 224
        }
      },
      "cell_type": "code",
      "source": [
        "metadata.head()"
      ],
      "execution_count": 11,
      "outputs": [
        {
          "output_type": "execute_result",
          "data": {
            "text/html": [
              "<div>\n",
              "<style scoped>\n",
              "    .dataframe tbody tr th:only-of-type {\n",
              "        vertical-align: middle;\n",
              "    }\n",
              "\n",
              "    .dataframe tbody tr th {\n",
              "        vertical-align: top;\n",
              "    }\n",
              "\n",
              "    .dataframe thead th {\n",
              "        text-align: right;\n",
              "    }\n",
              "</style>\n",
              "<table border=\"1\" class=\"dataframe\">\n",
              "  <thead>\n",
              "    <tr style=\"text-align: right;\">\n",
              "      <th></th>\n",
              "      <th>doc_sent_mag</th>\n",
              "      <th>doc_sent_score</th>\n",
              "      <th>vertex_x</th>\n",
              "      <th>vertex_y</th>\n",
              "      <th>bounding_confidence</th>\n",
              "      <th>bounding_importance</th>\n",
              "      <th>dominant_blue</th>\n",
              "      <th>dominant_green</th>\n",
              "      <th>dominant_red</th>\n",
              "      <th>dominant_pixel_frac</th>\n",
              "      <th>dominant_score</th>\n",
              "      <th>label_description</th>\n",
              "      <th>label_score</th>\n",
              "    </tr>\n",
              "  </thead>\n",
              "  <tbody>\n",
              "    <tr>\n",
              "      <th>0</th>\n",
              "      <td>-1</td>\n",
              "      <td>-1</td>\n",
              "      <td>-1</td>\n",
              "      <td>-1</td>\n",
              "      <td>-1.0</td>\n",
              "      <td>-1.0</td>\n",
              "      <td>-1</td>\n",
              "      <td>-1</td>\n",
              "      <td>-1</td>\n",
              "      <td>-1.000000</td>\n",
              "      <td>-1.000000</td>\n",
              "      <td>nothing</td>\n",
              "      <td>-1.000000</td>\n",
              "    </tr>\n",
              "    <tr>\n",
              "      <th>1</th>\n",
              "      <td>-1</td>\n",
              "      <td>-1</td>\n",
              "      <td>-1</td>\n",
              "      <td>-1</td>\n",
              "      <td>-1.0</td>\n",
              "      <td>-1.0</td>\n",
              "      <td>-1</td>\n",
              "      <td>-1</td>\n",
              "      <td>-1</td>\n",
              "      <td>-1.000000</td>\n",
              "      <td>-1.000000</td>\n",
              "      <td>nothing</td>\n",
              "      <td>-1.000000</td>\n",
              "    </tr>\n",
              "    <tr>\n",
              "      <th>2</th>\n",
              "      <td>-1</td>\n",
              "      <td>-1</td>\n",
              "      <td>299</td>\n",
              "      <td>399</td>\n",
              "      <td>0.8</td>\n",
              "      <td>1.0</td>\n",
              "      <td>51</td>\n",
              "      <td>55</td>\n",
              "      <td>61</td>\n",
              "      <td>0.055064</td>\n",
              "      <td>0.333318</td>\n",
              "      <td>dog</td>\n",
              "      <td>0.960457</td>\n",
              "    </tr>\n",
              "    <tr>\n",
              "      <th>3</th>\n",
              "      <td>-1</td>\n",
              "      <td>-1</td>\n",
              "      <td>399</td>\n",
              "      <td>299</td>\n",
              "      <td>0.8</td>\n",
              "      <td>1.0</td>\n",
              "      <td>47</td>\n",
              "      <td>50</td>\n",
              "      <td>54</td>\n",
              "      <td>0.127818</td>\n",
              "      <td>0.136823</td>\n",
              "      <td>dog</td>\n",
              "      <td>0.978698</td>\n",
              "    </tr>\n",
              "    <tr>\n",
              "      <th>4</th>\n",
              "      <td>-1</td>\n",
              "      <td>-1</td>\n",
              "      <td>-1</td>\n",
              "      <td>-1</td>\n",
              "      <td>-1.0</td>\n",
              "      <td>-1.0</td>\n",
              "      <td>-1</td>\n",
              "      <td>-1</td>\n",
              "      <td>-1</td>\n",
              "      <td>-1.000000</td>\n",
              "      <td>-1.000000</td>\n",
              "      <td>nothing</td>\n",
              "      <td>-1.000000</td>\n",
              "    </tr>\n",
              "  </tbody>\n",
              "</table>\n",
              "</div>"
            ],
            "text/plain": [
              "   doc_sent_mag  doc_sent_score  vertex_x  vertex_y  bounding_confidence  \\\n",
              "0            -1              -1        -1        -1                 -1.0   \n",
              "1            -1              -1        -1        -1                 -1.0   \n",
              "2            -1              -1       299       399                  0.8   \n",
              "3            -1              -1       399       299                  0.8   \n",
              "4            -1              -1        -1        -1                 -1.0   \n",
              "\n",
              "   bounding_importance  dominant_blue  dominant_green  dominant_red  \\\n",
              "0                 -1.0             -1              -1            -1   \n",
              "1                 -1.0             -1              -1            -1   \n",
              "2                  1.0             51              55            61   \n",
              "3                  1.0             47              50            54   \n",
              "4                 -1.0             -1              -1            -1   \n",
              "\n",
              "   dominant_pixel_frac  dominant_score label_description  label_score  \n",
              "0            -1.000000       -1.000000           nothing    -1.000000  \n",
              "1            -1.000000       -1.000000           nothing    -1.000000  \n",
              "2             0.055064        0.333318               dog     0.960457  \n",
              "3             0.127818        0.136823               dog     0.978698  \n",
              "4            -1.000000       -1.000000           nothing    -1.000000  "
            ]
          },
          "metadata": {
            "tags": []
          },
          "execution_count": 11
        }
      ]
    },
    {
      "metadata": {
        "id": "kip0fwa2r5qg",
        "colab_type": "code",
        "outputId": "5c5d65bd-a5cd-4e1c-a581-7fdce340fe7d",
        "colab": {
          "base_uri": "https://localhost:8080/",
          "height": 629
        }
      },
      "cell_type": "code",
      "source": [
        "metadata['label_description'].value_counts()"
      ],
      "execution_count": 12,
      "outputs": [
        {
          "output_type": "execute_result",
          "data": {
            "text/plain": [
              "nothing                       11440\n",
              "cat                            1590\n",
              "dog                            1414\n",
              "dog breed                       264\n",
              "dog like mammal                 141\n",
              "animal shelter                   48\n",
              "fauna                            31\n",
              "mammal                           10\n",
              "dog breed group                   9\n",
              "black                             4\n",
              "cage                              4\n",
              "small to medium sized cats        3\n",
              "skin                              3\n",
              "plant                             3\n",
              "furniture                         3\n",
              "car                               2\n",
              "bull terrier                      2\n",
              "face                              2\n",
              "nose                              2\n",
              "blue                              2\n",
              "yellow                            2\n",
              "iron                              1\n",
              "pink                              1\n",
              "nature reserve                    1\n",
              "boston terrier                    1\n",
              "fur                               1\n",
              "guinea pig                        1\n",
              "grass                             1\n",
              "siberian husky                    1\n",
              "vertebrate                        1\n",
              "tire                              1\n",
              "czechoslovakian wolfdog           1\n",
              "pug                               1\n",
              "floor                             1\n",
              "textile                           1\n",
              "Name: label_description, dtype: int64"
            ]
          },
          "metadata": {
            "tags": []
          },
          "execution_count": 12
        }
      ]
    },
    {
      "metadata": {
        "id": "pr0wEMoUKw6J",
        "colab_type": "code",
        "outputId": "04ce641d-5915-4dd0-ee26-52209dbf3f79",
        "colab": {
          "base_uri": "https://localhost:8080/",
          "height": 204
        }
      },
      "cell_type": "code",
      "source": [
        "sentiment.head()"
      ],
      "execution_count": 13,
      "outputs": [
        {
          "output_type": "execute_result",
          "data": {
            "text/html": [
              "<div>\n",
              "<style scoped>\n",
              "    .dataframe tbody tr th:only-of-type {\n",
              "        vertical-align: middle;\n",
              "    }\n",
              "\n",
              "    .dataframe tbody tr th {\n",
              "        vertical-align: top;\n",
              "    }\n",
              "\n",
              "    .dataframe thead th {\n",
              "        text-align: right;\n",
              "    }\n",
              "</style>\n",
              "<table border=\"1\" class=\"dataframe\">\n",
              "  <thead>\n",
              "    <tr style=\"text-align: right;\">\n",
              "      <th></th>\n",
              "      <th>doc_sent_mag</th>\n",
              "      <th>doc_sent_score</th>\n",
              "    </tr>\n",
              "  </thead>\n",
              "  <tbody>\n",
              "    <tr>\n",
              "      <th>0</th>\n",
              "      <td>2.4</td>\n",
              "      <td>0.3</td>\n",
              "    </tr>\n",
              "    <tr>\n",
              "      <th>1</th>\n",
              "      <td>0.7</td>\n",
              "      <td>-0.2</td>\n",
              "    </tr>\n",
              "    <tr>\n",
              "      <th>2</th>\n",
              "      <td>3.7</td>\n",
              "      <td>0.2</td>\n",
              "    </tr>\n",
              "    <tr>\n",
              "      <th>3</th>\n",
              "      <td>0.9</td>\n",
              "      <td>0.9</td>\n",
              "    </tr>\n",
              "    <tr>\n",
              "      <th>4</th>\n",
              "      <td>3.7</td>\n",
              "      <td>0.6</td>\n",
              "    </tr>\n",
              "  </tbody>\n",
              "</table>\n",
              "</div>"
            ],
            "text/plain": [
              "   doc_sent_mag  doc_sent_score\n",
              "0           2.4             0.3\n",
              "1           0.7            -0.2\n",
              "2           3.7             0.2\n",
              "3           0.9             0.9\n",
              "4           3.7             0.6"
            ]
          },
          "metadata": {
            "tags": []
          },
          "execution_count": 13
        }
      ]
    },
    {
      "metadata": {
        "id": "WiXWHmwFphFs",
        "colab_type": "text"
      },
      "cell_type": "markdown",
      "source": [
        "#Evaluation Metric"
      ]
    },
    {
      "metadata": {
        "id": "Qh0GJRgIpjaC",
        "colab_type": "code",
        "colab": {}
      },
      "cell_type": "code",
      "source": [
        "#I used code from this github repositery\n",
        "#https://github.com/benhamner/Metrics/blob/master/Python/ml_metrics/quadratic_weighted_kappa.py\n",
        "\n",
        "import numpy as np\n",
        "\n",
        "\n",
        "def confusion_matrix(rater_a, rater_b, min_rating=None, max_rating=None):\n",
        "    \"\"\"\n",
        "    Returns the confusion matrix between rater's ratings\n",
        "    \"\"\"\n",
        "    assert(len(rater_a) == len(rater_b))\n",
        "    if min_rating is None:\n",
        "        min_rating = min(rater_a + rater_b)\n",
        "    if max_rating is None:\n",
        "        max_rating = max(rater_a + rater_b)\n",
        "    num_ratings = int(max_rating - min_rating + 1)\n",
        "    conf_mat = [[0 for i in range(num_ratings)]\n",
        "                for j in range(num_ratings)]\n",
        "    for a, b in zip(rater_a, rater_b):\n",
        "        conf_mat[a - min_rating][b - min_rating] += 1\n",
        "    return conf_mat\n",
        "\n",
        "\n",
        "def histogram(ratings, min_rating=None, max_rating=None):\n",
        "    \"\"\"\n",
        "    Returns the counts of each type of rating that a rater made\n",
        "    \"\"\"\n",
        "    if min_rating is None:\n",
        "        min_rating = min(ratings)\n",
        "    if max_rating is None:\n",
        "        max_rating = max(ratings)\n",
        "    num_ratings = int(max_rating - min_rating + 1)\n",
        "    hist_ratings = [0 for x in range(num_ratings)]\n",
        "    for r in ratings:\n",
        "        hist_ratings[r - min_rating] += 1\n",
        "    return hist_ratings\n",
        "\n",
        "\n",
        "def quadratic_weighted_kappa(rater_a, rater_b, min_rating=None, max_rating=None):\n",
        "    \"\"\"\n",
        "    Calculates the quadratic weighted kappa\n",
        "    quadratic_weighted_kappa calculates the quadratic weighted kappa\n",
        "    value, which is a measure of inter-rater agreement between two raters\n",
        "    that provide discrete numeric ratings.  Potential values range from -1\n",
        "    (representing complete disagreement) to 1 (representing complete\n",
        "    agreement).  A kappa value of 0 is expected if all agreement is due to\n",
        "    chance.\n",
        "    quadratic_weighted_kappa(rater_a, rater_b), where rater_a and rater_b\n",
        "    each correspond to a list of integer ratings.  These lists must have the\n",
        "    same length.\n",
        "    The ratings should be integers, and it is assumed that they contain\n",
        "    the complete range of possible ratings.\n",
        "    quadratic_weighted_kappa(X, min_rating, max_rating), where min_rating\n",
        "    is the minimum possible rating, and max_rating is the maximum possible\n",
        "    rating\n",
        "    \"\"\"\n",
        "    rater_a = np.array(rater_a, dtype=int)\n",
        "    rater_b = np.array(rater_b, dtype=int)\n",
        "    assert(len(rater_a) == len(rater_b))\n",
        "    if min_rating is None:\n",
        "        min_rating = min(min(rater_a), min(rater_b))\n",
        "    if max_rating is None:\n",
        "        max_rating = max(max(rater_a), max(rater_b))\n",
        "    conf_mat = confusion_matrix(rater_a, rater_b,\n",
        "                                min_rating, max_rating)\n",
        "    num_ratings = len(conf_mat)\n",
        "    num_scored_items = float(len(rater_a))\n",
        "\n",
        "    hist_rater_a = histogram(rater_a, min_rating, max_rating)\n",
        "    hist_rater_b = histogram(rater_b, min_rating, max_rating)\n",
        "\n",
        "    numerator = 0.0\n",
        "    denominator = 0.0\n",
        "\n",
        "    for i in range(num_ratings):\n",
        "        for j in range(num_ratings):\n",
        "            expected_count = (hist_rater_a[i] * hist_rater_b[j]\n",
        "                              / num_scored_items)\n",
        "            d = pow(i - j, 2.0) / pow(num_ratings - 1, 2.0)\n",
        "            numerator += d * conf_mat[i][j] / num_scored_items\n",
        "            denominator += d * expected_count / num_scored_items\n",
        "\n",
        "    return 1.0 - numerator / denominator\n",
        "\n",
        "\n",
        "def linear_weighted_kappa(rater_a, rater_b, min_rating=None, max_rating=None):\n",
        "    \"\"\"\n",
        "    Calculates the linear weighted kappa\n",
        "    linear_weighted_kappa calculates the linear weighted kappa\n",
        "    value, which is a measure of inter-rater agreement between two raters\n",
        "    that provide discrete numeric ratings.  Potential values range from -1\n",
        "    (representing complete disagreement) to 1 (representing complete\n",
        "    agreement).  A kappa value of 0 is expected if all agreement is due to\n",
        "    chance.\n",
        "    linear_weighted_kappa(rater_a, rater_b), where rater_a and rater_b\n",
        "    each correspond to a list of integer ratings.  These lists must have the\n",
        "    same length.\n",
        "    The ratings should be integers, and it is assumed that they contain\n",
        "    the complete range of possible ratings.\n",
        "    linear_weighted_kappa(X, min_rating, max_rating), where min_rating\n",
        "    is the minimum possible rating, and max_rating is the maximum possible\n",
        "    rating\n",
        "    \"\"\"\n",
        "    assert(len(rater_a) == len(rater_b))\n",
        "    if min_rating is None:\n",
        "        min_rating = min(rater_a + rater_b)\n",
        "    if max_rating is None:\n",
        "        max_rating = max(rater_a + rater_b)\n",
        "    conf_mat = confusion_matrix(rater_a, rater_b,\n",
        "                                min_rating, max_rating)\n",
        "    num_ratings = len(conf_mat)\n",
        "    num_scored_items = float(len(rater_a))\n",
        "\n",
        "    hist_rater_a = histogram(rater_a, min_rating, max_rating)\n",
        "    hist_rater_b = histogram(rater_b, min_rating, max_rating)\n",
        "\n",
        "    numerator = 0.0\n",
        "    denominator = 0.0\n",
        "\n",
        "    for i in range(num_ratings):\n",
        "        for j in range(num_ratings):\n",
        "            expected_count = (hist_rater_a[i] * hist_rater_b[j]\n",
        "                              / num_scored_items)\n",
        "            d = abs(i - j) / float(num_ratings - 1)\n",
        "            numerator += d * conf_mat[i][j] / num_scored_items\n",
        "            denominator += d * expected_count / num_scored_items\n",
        "\n",
        "    return 1.0 - numerator / denominator\n",
        "\n",
        "\n",
        "def kappa(rater_a, rater_b, min_rating=None, max_rating=None):\n",
        "    \"\"\"\n",
        "    Calculates the kappa\n",
        "    kappa calculates the kappa\n",
        "    value, which is a measure of inter-rater agreement between two raters\n",
        "    that provide discrete numeric ratings.  Potential values range from -1\n",
        "    (representing complete disagreement) to 1 (representing complete\n",
        "    agreement).  A kappa value of 0 is expected if all agreement is due to\n",
        "    chance.\n",
        "    kappa(rater_a, rater_b), where rater_a and rater_b\n",
        "    each correspond to a list of integer ratings.  These lists must have the\n",
        "    same length.\n",
        "    The ratings should be integers, and it is assumed that they contain\n",
        "    the complete range of possible ratings.\n",
        "    kappa(X, min_rating, max_rating), where min_rating\n",
        "    is the minimum possible rating, and max_rating is the maximum possible\n",
        "    rating\n",
        "    \"\"\"\n",
        "    assert(len(rater_a) == len(rater_b))\n",
        "    if min_rating is None:\n",
        "        min_rating = min(rater_a + rater_b)\n",
        "    if max_rating is None:\n",
        "        max_rating = max(rater_a + rater_b)\n",
        "    conf_mat = confusion_matrix(rater_a, rater_b,\n",
        "                                min_rating, max_rating)\n",
        "    num_ratings = len(conf_mat)\n",
        "    num_scored_items = float(len(rater_a))\n",
        "\n",
        "    hist_rater_a = histogram(rater_a, min_rating, max_rating)\n",
        "    hist_rater_b = histogram(rater_b, min_rating, max_rating)\n",
        "\n",
        "    numerator = 0.0\n",
        "    denominator = 0.0\n",
        "\n",
        "    for i in range(num_ratings):\n",
        "        for j in range(num_ratings):\n",
        "            expected_count = (hist_rater_a[i] * hist_rater_b[j]\n",
        "                              / num_scored_items)\n",
        "            if i == j:\n",
        "                d = 0.0\n",
        "            else:\n",
        "                d = 1.0\n",
        "            numerator += d * conf_mat[i][j] / num_scored_items\n",
        "            denominator += d * expected_count / num_scored_items\n",
        "\n",
        "    return 1.0 - numerator / denominator\n",
        "\n",
        "\n",
        "def mean_quadratic_weighted_kappa(kappas, weights=None):\n",
        "    \"\"\"\n",
        "    Calculates the mean of the quadratic\n",
        "    weighted kappas after applying Fisher's r-to-z transform, which is\n",
        "    approximately a variance-stabilizing transformation.  This\n",
        "    transformation is undefined if one of the kappas is 1.0, so all kappa\n",
        "    values are capped in the range (-0.999, 0.999).  The reverse\n",
        "    transformation is then applied before returning the result.\n",
        "    mean_quadratic_weighted_kappa(kappas), where kappas is a vector of\n",
        "    kappa values\n",
        "    mean_quadratic_weighted_kappa(kappas, weights), where weights is a vector\n",
        "    of weights that is the same size as kappas.  Weights are applied in the\n",
        "    z-space\n",
        "    \"\"\"\n",
        "    kappas = np.array(kappas, dtype=float)\n",
        "    if weights is None:\n",
        "        weights = np.ones(np.shape(kappas))\n",
        "    else:\n",
        "        weights = weights / np.mean(weights)\n",
        "\n",
        "    # ensure that kappas are in the range [-.999, .999]\n",
        "    kappas = np.array([min(x, .999) for x in kappas])\n",
        "    kappas = np.array([max(x, -.999) for x in kappas])\n",
        "\n",
        "    z = 0.5 * np.log((1 + kappas) / (1 - kappas)) * weights\n",
        "    z = np.mean(z)\n",
        "    return (np.exp(2 * z) - 1) / (np.exp(2 * z) + 1)\n",
        "\n",
        "\n",
        "def weighted_mean_quadratic_weighted_kappa(solution, submission):\n",
        "    predicted_score = submission[submission.columns[-1]].copy()\n",
        "    predicted_score.name = \"predicted_score\"\n",
        "    if predicted_score.index[0] == 0:\n",
        "        predicted_score = predicted_score[:len(solution)]\n",
        "        predicted_score.index = solution.index\n",
        "    combined = solution.join(predicted_score, how=\"left\")\n",
        "    groups = combined.groupby(by=\"essay_set\")\n",
        "    kappas = [quadratic_weighted_kappa(group[1][\"essay_score\"], group[1][\"predicted_score\"]) for group in groups]\n",
        "    weights = [group[1][\"essay_weight\"].irow(0) for group in groups]\n",
        "    return mean_quadratic_weighted_kappa(kappas, weights=weights)"
      ],
      "execution_count": 0,
      "outputs": []
    },
    {
      "metadata": {
        "id": "vHFPQeanqDJK",
        "colab_type": "code",
        "colab": {}
      },
      "cell_type": "code",
      "source": [
        "#kfold cross validation\n",
        "\n",
        "def kfold_validation(X_train, y_train, model, epochs=100, num_folds=5, reg=False):\n",
        "\n",
        "  X_train_folds = np.array_split(X_train, num_folds)\n",
        "  y_train_folds = np.array_split(y_train, num_folds)\n",
        "  \n",
        "  qwk_score = 0\n",
        "  accuracy  = 0\n",
        "  \n",
        "  for i in range(num_folds):\n",
        "    train_set = np.concatenate((X_train_folds[:i]+X_train_folds[i+1:]))\n",
        "    label_set = np.concatenate((y_train_folds[:i]+y_train_folds[i+1:]))\n",
        "\n",
        "    #train\n",
        "    model.fit(train_set, label_set, epochs=epochs, verbose=0)\n",
        "\n",
        "    #predict\n",
        "    y_pred = model.predict_classes(X_train_folds[i])\n",
        "    \n",
        "    #if it is regression, round the result to the nearest category\n",
        "    if(reg == True): \n",
        "      y_pred = np.rint(y_pred).astype(int).reshape(-1)\n",
        "      y_true = y_train_folds[i]\n",
        "    else:\n",
        "      y_pred = model.predict_classes(X_train_folds[i])\n",
        "      y_true = np.argmax(y_train_folds[i].values, axis=1)    \n",
        "    \n",
        "   \n",
        "    #calculate quadratic weighted kappa\n",
        "    qwk_score += quadratic_weighted_kappa(y_true, y_pred)/num_folds\n",
        "    \n",
        "    #calculate accuracy\n",
        "    accuracy += accuracy_score(y_true, y_pred)/num_folds\n",
        "    \n",
        "\n",
        "  print('qwk_score= ', qwk_score, ', accuracy= ', accuracy)\n",
        "  return [qwk_score, accuracy]"
      ],
      "execution_count": 0,
      "outputs": []
    },
    {
      "metadata": {
        "id": "8clUhTLxAd_B",
        "colab_type": "text"
      },
      "cell_type": "markdown",
      "source": [
        "#Benchmark Evaluation"
      ]
    },
    {
      "metadata": {
        "id": "H_ZctVHPFIDn",
        "colab_type": "code",
        "colab": {}
      },
      "cell_type": "code",
      "source": [
        "#K cv for benchmark model\n",
        "#benchmark model that i will use here\n",
        "#alwyas predict that has adoptability of category 2\n",
        "\n",
        "def kfold_validation_benchmark(y_train, num_folds=5):\n",
        "\n",
        "  predicted_category = 2\n",
        "  \n",
        "  y_train_folds = np.array_split(y_train, num_folds)\n",
        "  \n",
        "  qwk_score = 0\n",
        "  accuracy  = 0\n",
        "  \n",
        "  for i in range(num_folds):\n",
        "    \n",
        "    y_true = y_train_folds[i].values\n",
        "    y_pred = np.full(y_true.shape, predicted_category)\n",
        "\n",
        "    #calculate quadratic weighted kappa\n",
        "    qwk_score += quadratic_weighted_kappa(y_true, y_pred)/num_folds\n",
        "    \n",
        "    #calculate accuracy\n",
        "    accuracy += accuracy_score(y_true, y_pred)/num_folds\n",
        "    \n",
        "\n",
        "  print('qwk_score= ', qwk_score, ', accuracy= ', accuracy)\n",
        "  return [qwk_score, accuracy]"
      ],
      "execution_count": 0,
      "outputs": []
    },
    {
      "metadata": {
        "id": "rDD_W1djCTF9",
        "colab_type": "code",
        "outputId": "a5125bfd-9fe5-4598-ee10-2f268ffb8ec8",
        "colab": {
          "base_uri": "https://localhost:8080/",
          "height": 51
        }
      },
      "cell_type": "code",
      "source": [
        "kfold_validation_benchmark(train['AdoptionSpeed'])"
      ],
      "execution_count": 17,
      "outputs": [
        {
          "output_type": "stream",
          "text": [
            "qwk_score=  0.0 , accuracy=  0.2692592883418333\n"
          ],
          "name": "stdout"
        },
        {
          "output_type": "execute_result",
          "data": {
            "text/plain": [
              "[0.0, 0.2692592883418333]"
            ]
          },
          "metadata": {
            "tags": []
          },
          "execution_count": 17
        }
      ]
    },
    {
      "metadata": {
        "id": "F1_9EHF1SK9x",
        "colab_type": "text"
      },
      "cell_type": "markdown",
      "source": [
        "#Preprocessing"
      ]
    },
    {
      "metadata": {
        "id": "5WgbUyNSwiH6",
        "colab_type": "code",
        "colab": {}
      },
      "cell_type": "code",
      "source": [
        "def handle_missing_data(df, colName, y):\n",
        "  \n",
        "  col = df.columns.get_loc(colName)\n",
        "  \n",
        "  mean_values = []\n",
        "\n",
        "  #calculate mean values for each class\n",
        "  for i in range(5): #5 classes\n",
        "    mean_values.append(np.mean(df[colName][y == i]))\n",
        "\n",
        "  #replace missing values with mean value of its class\n",
        "  for j in range(df.shape[0]):\n",
        "    if(df.iloc[j,col] == -1):\n",
        "      df.iloc[j,col] = mean_values[y[j]]"
      ],
      "execution_count": 0,
      "outputs": []
    },
    {
      "metadata": {
        "id": "Lf2m8DrUCe1x",
        "colab_type": "code",
        "colab": {}
      },
      "cell_type": "code",
      "source": [
        "#I will discard these features for now\n",
        "#['Name', 'Description', 'AdoptionSpeed']\n",
        "\n",
        "def process_data(data):\n",
        "\n",
        "  #put processed features to X\n",
        "  X = pd.DataFrame()\n",
        "\n",
        "  #convert categorical features to one hot encoding\n",
        "  categorical_features = ['Type', 'Gender', 'Vaccinated', 'Dewormed', 'RescuerID', 'Sterilized', 'State']\n",
        "\n",
        "  for f in categorical_features:\n",
        "    data[f] = pd.Categorical(data[f])\n",
        "    dfDummies = pd.get_dummies(data[f], prefix = f)\n",
        "    X = pd.concat([X, dfDummies], axis=1)\n",
        "\n",
        "  #convert 2 breed feature into one feature\n",
        "  data['Breed1'] = pd.Categorical(data['Breed1'])\n",
        "  dfDummies = pd.get_dummies(data['Breed1'], prefix = 'Breed')\n",
        "\n",
        "  data['Breed2'] = pd.Categorical(data['Breed2'])\n",
        "  dfDummies = dfDummies + pd.get_dummies(data['Breed2'], prefix = 'Breed')\n",
        "  X = pd.concat([X, dfDummies], axis=1)\n",
        "\n",
        "  #convert 3 color feature into one feature\n",
        "  data['Color1'] = pd.Categorical(data['Color1'])\n",
        "  dfDummies = pd.get_dummies(data['Color1'], prefix = 'Color')\n",
        "\n",
        "  data['Color2'] = pd.Categorical(data['Color2'])\n",
        "  dfDummies = dfDummies + pd.get_dummies(data['Color2'], prefix = 'Color')\n",
        "\n",
        "  data['Color3'] = pd.Categorical(data['Color3'])\n",
        "  dfDummies = dfDummies + pd.get_dummies(data['Color3'], prefix = 'Color')\n",
        "\n",
        "  X = pd.concat([X, dfDummies], axis=1)\n",
        "\n",
        "  X.fillna(0) \n",
        "  \n",
        "  #remove un repeated values\n",
        "  for col in X.columns:\n",
        "    if(X[col].sum() < 40):\n",
        "      X.drop(col, axis=1, inplace=True)\n",
        "\n",
        "  #normalize numerical features min-max normalization\n",
        "  numerical_features = ['Age', 'Fee', 'VideoAmt', 'PhotoAmt', 'MaturitySize', 'FurLength', 'Health', 'Quantity']\n",
        "  for f in numerical_features:\n",
        "    normalized_df=(data[f]-data[f].min())/(data[f].max()-data[f].min())\n",
        "    X = pd.concat([X, normalized_df], axis=1)\n",
        "    \n",
        "  return X"
      ],
      "execution_count": 0,
      "outputs": []
    },
    {
      "metadata": {
        "id": "ctL3MMYInk-U",
        "colab_type": "code",
        "colab": {}
      },
      "cell_type": "code",
      "source": [
        "def process_sentiment(data, y):\n",
        "\n",
        "  #put processed features to X\n",
        "  X = pd.DataFrame()\n",
        "\n",
        "  #normalize numerical features min-max normalization\n",
        "  numerical_features = ['doc_sent_mag',\t'doc_sent_score']\n",
        "  for f in numerical_features:\n",
        "    handle_missing_data(data, f, y)\n",
        "    normalized_df=(data[f]-data[f].min())/(data[f].max()-data[f].min())\n",
        "    X = pd.concat([X, normalized_df], axis=1)\n",
        "    \n",
        "  return X"
      ],
      "execution_count": 0,
      "outputs": []
    },
    {
      "metadata": {
        "id": "wTW_zaNMoSzl",
        "colab_type": "code",
        "colab": {}
      },
      "cell_type": "code",
      "source": [
        "def process_metadata(data, y):\n",
        "  \n",
        "  #put processed features to X\n",
        "  X = pd.DataFrame()\n",
        "\n",
        "  #convert categorical features to one hot encoding\n",
        "  data['label_description'] = pd.Categorical(data['label_description'])\n",
        "  dfDummies = pd.get_dummies(data['label_description'], prefix = 'label_description')\n",
        "  X = pd.concat([X, dfDummies], axis=1)\n",
        "  \n",
        "  #remove un repeated values\n",
        "  for col in X.columns:\n",
        "    if(X[col].sum() < 11):\n",
        "      X.drop(col, axis=1, inplace=True)\n",
        "  \n",
        "  #normalize numerical features min-max normalization\n",
        "  for f in data.drop('label_description', axis = 1).columns:\n",
        "    handle_missing_data(data, f, y)\n",
        "    normalized_df=(data[f]-data[f].min())/(data[f].max()-data[f].min())\n",
        "    X = pd.concat([X, normalized_df], axis=1)\n",
        "    \n",
        "  return X"
      ],
      "execution_count": 0,
      "outputs": []
    },
    {
      "metadata": {
        "id": "LuIsZnzyF73Z",
        "colab_type": "text"
      },
      "cell_type": "markdown",
      "source": [
        "#Neural Network"
      ]
    },
    {
      "metadata": {
        "id": "D4FuxIaoF_Dw",
        "colab_type": "code",
        "colab": {}
      },
      "cell_type": "code",
      "source": [
        "#Classifier model simple network\n",
        "\n",
        "def cls_model_simple(n_input):\n",
        "  # create model\n",
        "  model = Sequential()\n",
        "  model.add(Dense(12, input_dim=n_input, activation='relu'))\n",
        "  model.add(Dense(8, activation='relu'))\n",
        "  model.add(Dense(5, activation='softmax'))\n",
        "\n",
        "  # Compile model\n",
        "  model.compile(loss='categorical_crossentropy', optimizer='adam', metrics=['accuracy'])\n",
        "  return model"
      ],
      "execution_count": 0,
      "outputs": []
    },
    {
      "metadata": {
        "id": "V73NAJn9KdLH",
        "colab_type": "code",
        "colab": {}
      },
      "cell_type": "code",
      "source": [
        "#Regression model simple network\n",
        "\n",
        "def reg_model_simple(n_input):\n",
        "\t# create model\n",
        "\tmodel = Sequential()\n",
        "\tmodel.add(Dense(13, input_dim=n_input, kernel_initializer='normal', activation='relu'))\n",
        "\tmodel.add(Dense(8, kernel_initializer='normal', activation='relu'))\n",
        "\tmodel.add(Dense(1, kernel_initializer='normal'))\n",
        "\t\n",
        "  # Compile model\n",
        "\tmodel.compile(loss='mean_squared_error', optimizer='adam', metrics=['accuracy'])\n",
        "\treturn model"
      ],
      "execution_count": 0,
      "outputs": []
    },
    {
      "metadata": {
        "id": "oTPGEhiaDmps",
        "colab_type": "text"
      },
      "cell_type": "markdown",
      "source": [
        "#Implementation"
      ]
    },
    {
      "metadata": {
        "id": "t4OqD_HtPmq-",
        "colab_type": "code",
        "colab": {}
      },
      "cell_type": "code",
      "source": [
        "def train_simple_network(features, labels, epochs=100):\n",
        "  n_input = features.shape[1]\n",
        "  \n",
        "  #classifier\n",
        "  print('Classifier')\n",
        "  encoded_labels = pd.get_dummies(labels)\n",
        "  kfold_validation(features, encoded_labels, cls_model_simple(n_input), epochs=epochs)\n",
        "\n",
        "  #regressor\n",
        "  print('Regression')\n",
        "  kfold_validation(features, labels, reg_model_simple(n_input), epochs=epochs, reg=True)"
      ],
      "execution_count": 0,
      "outputs": []
    },
    {
      "metadata": {
        "id": "r2DqhZMaDo2L",
        "colab_type": "code",
        "outputId": "a1e0e667-b5dd-40b1-e417-444465a80993",
        "colab": {
          "base_uri": "https://localhost:8080/",
          "height": 34
        }
      },
      "cell_type": "code",
      "source": [
        "labels = train['AdoptionSpeed']\n",
        "\n",
        "main_features = process_data(train)\n",
        "sentiment_features = process_sentiment(sentiment, labels)\n",
        "metadata_features = process_metadata(metadata, labels)\n",
        "\n",
        "\n",
        "all_features = pd.concat([main_features, sentiment_features, metadata_features], axis=1)\n",
        "\n",
        "print(all_features.shape)"
      ],
      "execution_count": 25,
      "outputs": [
        {
          "output_type": "stream",
          "text": [
            "(14993, 124)\n"
          ],
          "name": "stdout"
        }
      ]
    },
    {
      "metadata": {
        "id": "TqG1k2zaFpTu",
        "colab_type": "code",
        "outputId": "b8f65813-6152-4ad2-eaf9-72ccc18a9bc0",
        "colab": {
          "base_uri": "https://localhost:8080/",
          "height": 207
        }
      },
      "cell_type": "code",
      "source": [
        "#train with all features\n",
        "train_simple_network(all_features, labels, epochs=100)"
      ],
      "execution_count": 26,
      "outputs": [
        {
          "output_type": "stream",
          "text": [
            "Classifier\n",
            "WARNING:tensorflow:From /usr/local/lib/python3.6/dist-packages/tensorflow/python/framework/op_def_library.py:263: colocate_with (from tensorflow.python.framework.ops) is deprecated and will be removed in a future version.\n",
            "Instructions for updating:\n",
            "Colocations handled automatically by placer.\n",
            "WARNING:tensorflow:From /usr/local/lib/python3.6/dist-packages/tensorflow/python/ops/math_ops.py:3066: to_int32 (from tensorflow.python.ops.math_ops) is deprecated and will be removed in a future version.\n",
            "Instructions for updating:\n",
            "Use tf.cast instead.\n",
            "qwk_score=  0.0 , accuracy=  0.2799300011277942\n",
            "Regression\n",
            "qwk_score=  0.0 , accuracy=  0.2060972292076011\n"
          ],
          "name": "stdout"
        }
      ]
    },
    {
      "metadata": {
        "id": "8aT5fUnP9gZV",
        "colab_type": "code",
        "outputId": "fcb7f2de-8b9e-4209-c8c5-dd423efbcb6a",
        "colab": {
          "base_uri": "https://localhost:8080/",
          "height": 85
        }
      },
      "cell_type": "code",
      "source": [
        "#train with main features\n",
        "train_simple_network(main_features, labels, epochs=100)"
      ],
      "execution_count": 34,
      "outputs": [
        {
          "output_type": "stream",
          "text": [
            "Classifier\n",
            "qwk_score=  0.3457991777308922 , accuracy=  0.4230656605348325\n",
            "Regression\n",
            "qwk_score=  0.0010062659976290077 , accuracy=  0.20549682894075655\n"
          ],
          "name": "stdout"
        }
      ]
    },
    {
      "metadata": {
        "id": "2K7Ewl5ZQCAs",
        "colab_type": "text"
      },
      "cell_type": "markdown",
      "source": [
        "#Refinement"
      ]
    },
    {
      "metadata": {
        "id": "ouGrInCrQDUV",
        "colab_type": "code",
        "colab": {}
      },
      "cell_type": "code",
      "source": [
        "\n",
        "important_features =  ['Gender_1', 'Gender_2', 'Gender_3', 'Sterilized_1', 'Sterilized_2', 'Sterilized_3',\n",
        "'State_41324', 'State_41325', 'State_41326', 'State_41327',\n",
        "'State_41330', 'State_41332', 'State_41336', 'State_41401', 'Breed_103',\n",
        "'Breed_109', 'Breed_141', 'Breed_179', 'Breed_189', 'Breed_205',\n",
        "'Breed_218', 'Breed_254', 'Breed_264', 'Breed_265', 'Breed_266',\n",
        "'Breed_285', 'Breed_292', 'Breed_299', 'Breed_307', 'Color_3',\n",
        "'Color_4', 'Color_5', 'Color_6', 'Color_7', 'Age', 'Fee',\n",
        "'PhotoAmt', 'MaturitySize', 'FurLength',  'Quantity',\n",
        "'doc_sent_mag',  'vertex_x', 'vertex_y',\n",
        "'dominant_blue',\n",
        "'dominant_green', 'dominant_red', 'dominant_pixel_frac',\n",
        "'dominant_score', 'label_score']\n",
        "\n",
        "X_important = all_features[important_features]\n",
        "\n",
        "\n",
        "  "
      ],
      "execution_count": 0,
      "outputs": []
    },
    {
      "metadata": {
        "id": "luqVJxdIEHs4",
        "colab_type": "code",
        "outputId": "5fd18ee2-7536-402f-8380-d53a0995e2ff",
        "colab": {
          "base_uri": "https://localhost:8080/",
          "height": 253
        }
      },
      "cell_type": "code",
      "source": [
        "X_important.head()"
      ],
      "execution_count": 32,
      "outputs": [
        {
          "output_type": "execute_result",
          "data": {
            "text/html": [
              "<div>\n",
              "<style scoped>\n",
              "    .dataframe tbody tr th:only-of-type {\n",
              "        vertical-align: middle;\n",
              "    }\n",
              "\n",
              "    .dataframe tbody tr th {\n",
              "        vertical-align: top;\n",
              "    }\n",
              "\n",
              "    .dataframe thead th {\n",
              "        text-align: right;\n",
              "    }\n",
              "</style>\n",
              "<table border=\"1\" class=\"dataframe\">\n",
              "  <thead>\n",
              "    <tr style=\"text-align: right;\">\n",
              "      <th></th>\n",
              "      <th>Gender_1</th>\n",
              "      <th>Gender_2</th>\n",
              "      <th>Gender_3</th>\n",
              "      <th>Sterilized_1</th>\n",
              "      <th>Sterilized_2</th>\n",
              "      <th>Sterilized_3</th>\n",
              "      <th>State_41324</th>\n",
              "      <th>State_41325</th>\n",
              "      <th>State_41326</th>\n",
              "      <th>State_41327</th>\n",
              "      <th>...</th>\n",
              "      <th>doc_sent_mag</th>\n",
              "      <th>doc_sent_mag</th>\n",
              "      <th>vertex_x</th>\n",
              "      <th>vertex_y</th>\n",
              "      <th>dominant_blue</th>\n",
              "      <th>dominant_green</th>\n",
              "      <th>dominant_red</th>\n",
              "      <th>dominant_pixel_frac</th>\n",
              "      <th>dominant_score</th>\n",
              "      <th>label_score</th>\n",
              "    </tr>\n",
              "  </thead>\n",
              "  <tbody>\n",
              "    <tr>\n",
              "      <th>0</th>\n",
              "      <td>1</td>\n",
              "      <td>0</td>\n",
              "      <td>0</td>\n",
              "      <td>0</td>\n",
              "      <td>1</td>\n",
              "      <td>0</td>\n",
              "      <td>0</td>\n",
              "      <td>0</td>\n",
              "      <td>1</td>\n",
              "      <td>0</td>\n",
              "      <td>...</td>\n",
              "      <td>0.075000</td>\n",
              "      <td>NaN</td>\n",
              "      <td>0.019726</td>\n",
              "      <td>0.027575</td>\n",
              "      <td>0.085691</td>\n",
              "      <td>0.090059</td>\n",
              "      <td>0.108493</td>\n",
              "      <td>0.016975</td>\n",
              "      <td>0.020168</td>\n",
              "      <td>0.031058</td>\n",
              "    </tr>\n",
              "    <tr>\n",
              "      <th>1</th>\n",
              "      <td>1</td>\n",
              "      <td>0</td>\n",
              "      <td>0</td>\n",
              "      <td>0</td>\n",
              "      <td>0</td>\n",
              "      <td>1</td>\n",
              "      <td>0</td>\n",
              "      <td>0</td>\n",
              "      <td>0</td>\n",
              "      <td>0</td>\n",
              "      <td>...</td>\n",
              "      <td>0.021875</td>\n",
              "      <td>NaN</td>\n",
              "      <td>0.000000</td>\n",
              "      <td>0.000000</td>\n",
              "      <td>0.084732</td>\n",
              "      <td>0.083124</td>\n",
              "      <td>0.099093</td>\n",
              "      <td>0.000000</td>\n",
              "      <td>0.000000</td>\n",
              "      <td>0.000000</td>\n",
              "    </tr>\n",
              "    <tr>\n",
              "      <th>2</th>\n",
              "      <td>1</td>\n",
              "      <td>0</td>\n",
              "      <td>0</td>\n",
              "      <td>0</td>\n",
              "      <td>1</td>\n",
              "      <td>0</td>\n",
              "      <td>0</td>\n",
              "      <td>0</td>\n",
              "      <td>1</td>\n",
              "      <td>0</td>\n",
              "      <td>...</td>\n",
              "      <td>0.115625</td>\n",
              "      <td>NaN</td>\n",
              "      <td>0.389215</td>\n",
              "      <td>0.571085</td>\n",
              "      <td>0.196000</td>\n",
              "      <td>0.205645</td>\n",
              "      <td>0.232000</td>\n",
              "      <td>0.477269</td>\n",
              "      <td>0.647374</td>\n",
              "      <td>0.977815</td>\n",
              "    </tr>\n",
              "    <tr>\n",
              "      <th>3</th>\n",
              "      <td>0</td>\n",
              "      <td>1</td>\n",
              "      <td>0</td>\n",
              "      <td>0</td>\n",
              "      <td>1</td>\n",
              "      <td>0</td>\n",
              "      <td>0</td>\n",
              "      <td>0</td>\n",
              "      <td>0</td>\n",
              "      <td>0</td>\n",
              "      <td>...</td>\n",
              "      <td>0.028125</td>\n",
              "      <td>NaN</td>\n",
              "      <td>0.568858</td>\n",
              "      <td>0.392370</td>\n",
              "      <td>0.180000</td>\n",
              "      <td>0.185484</td>\n",
              "      <td>0.204000</td>\n",
              "      <td>0.519992</td>\n",
              "      <td>0.527011</td>\n",
              "      <td>0.989462</td>\n",
              "    </tr>\n",
              "    <tr>\n",
              "      <th>4</th>\n",
              "      <td>1</td>\n",
              "      <td>0</td>\n",
              "      <td>0</td>\n",
              "      <td>0</td>\n",
              "      <td>1</td>\n",
              "      <td>0</td>\n",
              "      <td>0</td>\n",
              "      <td>0</td>\n",
              "      <td>1</td>\n",
              "      <td>0</td>\n",
              "      <td>...</td>\n",
              "      <td>0.115625</td>\n",
              "      <td>NaN</td>\n",
              "      <td>0.019726</td>\n",
              "      <td>0.027575</td>\n",
              "      <td>0.085691</td>\n",
              "      <td>0.090059</td>\n",
              "      <td>0.108493</td>\n",
              "      <td>0.016975</td>\n",
              "      <td>0.020168</td>\n",
              "      <td>0.031058</td>\n",
              "    </tr>\n",
              "  </tbody>\n",
              "</table>\n",
              "<p>5 rows × 50 columns</p>\n",
              "</div>"
            ],
            "text/plain": [
              "   Gender_1  Gender_2  Gender_3  Sterilized_1  Sterilized_2  Sterilized_3  \\\n",
              "0         1         0         0             0             1             0   \n",
              "1         1         0         0             0             0             1   \n",
              "2         1         0         0             0             1             0   \n",
              "3         0         1         0             0             1             0   \n",
              "4         1         0         0             0             1             0   \n",
              "\n",
              "   State_41324  State_41325  State_41326  State_41327     ...       \\\n",
              "0            0            0            1            0     ...        \n",
              "1            0            0            0            0     ...        \n",
              "2            0            0            1            0     ...        \n",
              "3            0            0            0            0     ...        \n",
              "4            0            0            1            0     ...        \n",
              "\n",
              "   doc_sent_mag  doc_sent_mag  vertex_x  vertex_y  dominant_blue  \\\n",
              "0      0.075000           NaN  0.019726  0.027575       0.085691   \n",
              "1      0.021875           NaN  0.000000  0.000000       0.084732   \n",
              "2      0.115625           NaN  0.389215  0.571085       0.196000   \n",
              "3      0.028125           NaN  0.568858  0.392370       0.180000   \n",
              "4      0.115625           NaN  0.019726  0.027575       0.085691   \n",
              "\n",
              "   dominant_green  dominant_red  dominant_pixel_frac  dominant_score  \\\n",
              "0        0.090059      0.108493             0.016975        0.020168   \n",
              "1        0.083124      0.099093             0.000000        0.000000   \n",
              "2        0.205645      0.232000             0.477269        0.647374   \n",
              "3        0.185484      0.204000             0.519992        0.527011   \n",
              "4        0.090059      0.108493             0.016975        0.020168   \n",
              "\n",
              "   label_score  \n",
              "0     0.031058  \n",
              "1     0.000000  \n",
              "2     0.977815  \n",
              "3     0.989462  \n",
              "4     0.031058  \n",
              "\n",
              "[5 rows x 50 columns]"
            ]
          },
          "metadata": {
            "tags": []
          },
          "execution_count": 32
        }
      ]
    },
    {
      "metadata": {
        "id": "EvhpMkuxDyNd",
        "colab_type": "code",
        "outputId": "b9cd4cac-8d4d-413f-9e1a-cea61924e138",
        "colab": {
          "base_uri": "https://localhost:8080/",
          "height": 85
        }
      },
      "cell_type": "code",
      "source": [
        "#train with main features\n",
        "train_simple_network(X_important, labels, epochs=100)"
      ],
      "execution_count": 33,
      "outputs": [
        {
          "output_type": "stream",
          "text": [
            "Classifier\n",
            "qwk_score=  0.0 , accuracy=  0.2799300011277942\n",
            "Regression\n",
            "qwk_score=  0.0 , accuracy=  0.2060972292076011\n"
          ],
          "name": "stdout"
        }
      ]
    },
    {
      "metadata": {
        "id": "yImU3UfJ7utX",
        "colab_type": "code",
        "colab": {}
      },
      "cell_type": "code",
      "source": [
        ""
      ],
      "execution_count": 0,
      "outputs": []
    }
  ]
}